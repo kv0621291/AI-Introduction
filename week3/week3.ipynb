{
 "cells": [
  {
   "cell_type": "markdown",
   "metadata": {},
   "source": [
    "샘플링 & Bias\n",
    "\n",
    "value_counts()로 데이터 편향 췍\n",
    "\n",
    "빙어 & 도미\n",
    "\n",
    "Major class쪽으로 데이터가 편향되어 있으면, Minor class의 데이터가 있어도 Major class에 유리한 방향으로 진행이 된다.\n",
    "\n",
    "훈련 데이터와 검증 데이터의 차이(편향)를 막기 위해 샘플링에 신경을 써야한다.\n",
    "\n",
    "Factors of AI\n",
    "1. Data collection\n",
    "2. Pre-processing(결측치 처리, 스케일링, 인코딩)\n",
    "3. Model training\n",
    "4. Testing\n",
    "\n"
   ]
  }
 ],
 "metadata": {
  "language_info": {
   "name": "python"
  }
 },
 "nbformat": 4,
 "nbformat_minor": 2
}
